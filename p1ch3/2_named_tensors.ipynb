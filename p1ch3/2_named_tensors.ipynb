{
  "cells": [
    {
      "cell_type": "markdown",
      "metadata": {
        "id": "view-in-github",
        "colab_type": "text"
      },
      "source": [
        "<a href=\"https://colab.research.google.com/github/Ermiyas-03/01_my_repo1/blob/main/p1ch3/2_named_tensors.ipynb\" target=\"_parent\"><img src=\"https://colab.research.google.com/assets/colab-badge.svg\" alt=\"Open In Colab\"/></a>"
      ]
    },
    {
      "cell_type": "code",
      "execution_count": 1,
      "metadata": {
        "colab": {
          "base_uri": "https://localhost:8080/"
        },
        "id": "fE9oCGNIgcfj",
        "outputId": "f8a323f3-22b9-4c57-98db-66973b04e8de"
      },
      "outputs": [
        {
          "output_type": "stream",
          "name": "stderr",
          "text": [
            "<ipython-input-1-32e0d8fb07c9>:2: UserWarning: Named tensors and all their associated APIs are an experimental feature and subject to change. Please do not use them for anything important until they are released as stable. (Triggered internally at ../c10/core/TensorImpl.h:1928.)\n",
            "  _ = torch.tensor([0.2126, 0.7152, 0.0722], names=['c'])\n"
          ]
        }
      ],
      "source": [
        "import torch\n",
        "_ = torch.tensor([0.2126, 0.7152, 0.0722], names=['c'])"
      ]
    },
    {
      "cell_type": "markdown",
      "source": [
        "`torch.tensor(...)`\n",
        "\n",
        " This part creates a PyTorch tensor. A tensor is a multi-dimensional array, similar to a list or a NumPy array, but designed for efficient computation, especially on GPUs. It's the fundamental data structure used in PyTorch for deep learning.\n",
        "\n",
        "`[0.2126, 0.7152, 0.0722]`\n",
        "\n",
        "These are the values that are stored within the tensor. In this case, it's a 1-dimensional tensor (a vector) containing three floating-point numbers. These numbers likely represent weights or coefficients for some kind of calculation.\n",
        "\n",
        "`names=['c']`\n",
        "\n",
        "This is where we assign a name to the dimension of the tensor. In this case, the single dimension of the tensor is given the name 'c'. Using named dimensions can make your code more readable and help prevent errors when performing operations on tensors.\n",
        "\n",
        "`_ =`\n",
        "\n",
        "The underscore (_) is used in Python to indicate that we are not interested in storing the result of the operation in a specific variable. We are creating the tensor, but not assigning it to a named variable for later use. This might be done because the focus is more on creating the tensor with a named dimension for demonstration or internal purposes, rather than using it immediately in further calculations."
      ],
      "metadata": {
        "id": "O3CNyEDrgqSo"
      }
    },
    {
      "cell_type": "code",
      "execution_count": 2,
      "metadata": {
        "id": "zYdiKmFKgcfs"
      },
      "outputs": [],
      "source": [
        "# Creating an image tensor\n",
        "img_t = torch.randn(3, 5, 5) # shape [channels, rows, columns]\n",
        "\n",
        "# Creating a weights tensor\n",
        "weights = torch.tensor([0.2126, 0.7152, 0.0722])"
      ]
    },
    {
      "cell_type": "markdown",
      "source": [
        "`img_t` now holds a 3x5x5 tensor representing an image with 3 color channels and a 5x5 pixel grid, filled with random values."
      ],
      "metadata": {
        "id": "FaNZlAWkjODJ"
      }
    },
    {
      "cell_type": "code",
      "execution_count": null,
      "metadata": {
        "id": "qZtItY45gcft"
      },
      "outputs": [],
      "source": [
        "batch_t = torch.randn(2, 3, 5, 5) # shape [batch, channels, rows, columns]"
      ]
    },
    {
      "cell_type": "code",
      "execution_count": null,
      "metadata": {
        "id": "fex3jqVBgcfv",
        "outputId": "717bc414-1cbe-4fa0-acc7-96d413ab7b41"
      },
      "outputs": [
        {
          "data": {
            "text/plain": [
              "(torch.Size([5, 5]), torch.Size([2, 5, 5]))"
            ]
          },
          "execution_count": 4,
          "metadata": {},
          "output_type": "execute_result"
        }
      ],
      "source": [
        "img_gray_naive = img_t.mean(-3)\n",
        "batch_gray_naive = batch_t.mean(-3)\n",
        "img_gray_naive.shape, batch_gray_naive.shape"
      ]
    },
    {
      "cell_type": "code",
      "execution_count": null,
      "metadata": {
        "id": "rZtIDkGTgcfw",
        "outputId": "8c5b06c8-cf72-45af-e9e7-9e3c1c261f29"
      },
      "outputs": [
        {
          "data": {
            "text/plain": [
              "(torch.Size([2, 3, 5, 5]), torch.Size([2, 3, 5, 5]), torch.Size([3, 1, 1]))"
            ]
          },
          "execution_count": 5,
          "metadata": {},
          "output_type": "execute_result"
        }
      ],
      "source": [
        "unsqueezed_weights = weights.unsqueeze(-1).unsqueeze_(-1)\n",
        "img_weights = (img_t * unsqueezed_weights)\n",
        "batch_weights = (batch_t * unsqueezed_weights)\n",
        "img_gray_weighted = img_weights.sum(-3)\n",
        "batch_gray_weighted = batch_weights.sum(-3)\n",
        "batch_weights.shape, batch_t.shape, unsqueezed_weights.shape"
      ]
    },
    {
      "cell_type": "code",
      "execution_count": null,
      "metadata": {
        "scrolled": true,
        "id": "ClWuqNowgcfx",
        "outputId": "12ea041d-813a-4f5c-c99e-8dba648fb1eb"
      },
      "outputs": [
        {
          "data": {
            "text/plain": [
              "torch.Size([2, 5, 5])"
            ]
          },
          "execution_count": 6,
          "metadata": {},
          "output_type": "execute_result"
        }
      ],
      "source": [
        "img_gray_weighted_fancy = torch.einsum('...chw,c->...hw', img_t, weights)\n",
        "batch_gray_weighted_fancy = torch.einsum('...chw,c->...hw', batch_t, weights)\n",
        "batch_gray_weighted_fancy.shape"
      ]
    },
    {
      "cell_type": "code",
      "execution_count": null,
      "metadata": {
        "id": "WcTzoXKugcfy",
        "outputId": "60ae7c0c-a61f-44bb-e330-d0352ae8bb8d"
      },
      "outputs": [
        {
          "data": {
            "text/plain": [
              "tensor([0.2126, 0.7152, 0.0722], names=('channels',))"
            ]
          },
          "execution_count": 7,
          "metadata": {},
          "output_type": "execute_result"
        }
      ],
      "source": [
        "weights_named = torch.tensor([0.2126, 0.7152, 0.0722], names=['channels'])\n",
        "weights_named"
      ]
    },
    {
      "cell_type": "code",
      "execution_count": null,
      "metadata": {
        "scrolled": false,
        "id": "Cx1ecp4Cgcf0",
        "outputId": "8ebf29c4-f612-4b4c-d55d-cee2dbd6d430"
      },
      "outputs": [
        {
          "name": "stdout",
          "output_type": "stream",
          "text": [
            "img named: torch.Size([3, 5, 5]) ('channels', 'rows', 'columns')\n",
            "batch named: torch.Size([2, 3, 5, 5]) (None, 'channels', 'rows', 'columns')\n"
          ]
        }
      ],
      "source": [
        "img_named =  img_t.refine_names(..., 'channels', 'rows', 'columns')\n",
        "batch_named = batch_t.refine_names(..., 'channels', 'rows', 'columns')\n",
        "print(\"img named:\", img_named.shape, img_named.names)\n",
        "print(\"batch named:\", batch_named.shape, batch_named.names)"
      ]
    },
    {
      "cell_type": "code",
      "execution_count": null,
      "metadata": {
        "scrolled": false,
        "id": "Lsi0VYf6gcf1",
        "outputId": "ba048b31-3d3d-448e-d522-f4e4664b2a85"
      },
      "outputs": [
        {
          "data": {
            "text/plain": [
              "(torch.Size([3, 1, 1]), ('channels', 'rows', 'columns'))"
            ]
          },
          "execution_count": 9,
          "metadata": {},
          "output_type": "execute_result"
        }
      ],
      "source": [
        "weights_aligned = weights_named.align_as(img_named)\n",
        "weights_aligned.shape, weights_aligned.names"
      ]
    },
    {
      "cell_type": "code",
      "execution_count": null,
      "metadata": {
        "scrolled": true,
        "id": "M3_t1a67gcf2",
        "outputId": "9a728ba1-c37f-42ab-c515-f1c31ef4ba66"
      },
      "outputs": [
        {
          "data": {
            "text/plain": [
              "(torch.Size([5, 5]), ('rows', 'columns'))"
            ]
          },
          "execution_count": 10,
          "metadata": {},
          "output_type": "execute_result"
        }
      ],
      "source": [
        "gray_named = (img_named * weights_aligned).sum('channels')\n",
        "gray_named.shape, gray_named.names"
      ]
    },
    {
      "cell_type": "code",
      "execution_count": null,
      "metadata": {
        "scrolled": true,
        "id": "lE3zMKLlgcf2",
        "outputId": "c0a65973-36de-497b-c1c5-5d41261ca2ec"
      },
      "outputs": [
        {
          "name": "stdout",
          "output_type": "stream",
          "text": [
            "Error when attempting to broadcast dims ['channels', 'rows', 'columns'] and dims ['channels']: dim 'columns' and dim 'channels' are at the same position from the right but do not match.\n"
          ]
        }
      ],
      "source": [
        "try:\n",
        "    gray_named = (img_named[..., :3] * weights_named).sum('channels')\n",
        "except Exception as e:\n",
        "    print(e)"
      ]
    },
    {
      "cell_type": "code",
      "execution_count": null,
      "metadata": {
        "id": "H-zz9ZhCgcf3",
        "outputId": "fdcbe3b6-1361-4c67-f2c8-01a0b129a27d"
      },
      "outputs": [
        {
          "data": {
            "text/plain": [
              "(torch.Size([5, 5]), (None, None))"
            ]
          },
          "execution_count": 12,
          "metadata": {},
          "output_type": "execute_result"
        }
      ],
      "source": [
        "gray_plain = gray_named.rename(None)\n",
        "gray_plain.shape, gray_plain.names"
      ]
    },
    {
      "cell_type": "code",
      "execution_count": null,
      "metadata": {
        "id": "y4i1_eUNgcf4"
      },
      "outputs": [],
      "source": []
    },
    {
      "cell_type": "code",
      "execution_count": null,
      "metadata": {
        "id": "P7uZft9sgcf4"
      },
      "outputs": [],
      "source": []
    }
  ],
  "metadata": {
    "kernelspec": {
      "display_name": "Python 3",
      "language": "python",
      "name": "python3"
    },
    "language_info": {
      "codemirror_mode": {
        "name": "ipython",
        "version": 3
      },
      "file_extension": ".py",
      "mimetype": "text/x-python",
      "name": "python",
      "nbconvert_exporter": "python",
      "pygments_lexer": "ipython3",
      "version": "3.7.5"
    },
    "colab": {
      "provenance": [],
      "include_colab_link": true
    }
  },
  "nbformat": 4,
  "nbformat_minor": 0
}